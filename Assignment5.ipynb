{
  "nbformat": 4,
  "nbformat_minor": 0,
  "metadata": {
    "colab": {
      "provenance": []
    },
    "kernelspec": {
      "name": "python3",
      "display_name": "Python 3"
    },
    "language_info": {
      "name": "python"
    }
  },
  "cells": [
    {
      "cell_type": "markdown",
      "source": [
        "Task 1 :Write a Python program to create a calculator class. Include methods for basic arithmetic operations"
      ],
      "metadata": {
        "id": "l1ImXahMBZTR"
      }
    },
    {
      "cell_type": "code",
      "source": [
        "class Calculator:\n",
        "    def add(self, x, y):\n",
        "        return x + y\n",
        "\n",
        "    def subtract(self, x, y):\n",
        "        return x - y\n",
        "\n",
        "    def multiply(self, x, y):\n",
        "        return x * y\n",
        "\n",
        "    def divide(self, x, y):\n",
        "        if y != 0:\n",
        "            return x / y\n",
        "        else:\n",
        "            return (\"Cannot divide by zero.\")\n",
        "\n",
        "calc = Calculator()\n",
        "\n",
        "result = calc.add(7, 5)\n",
        "print(result)\n",
        "\n",
        "result = calc.subtract(34, 21)\n",
        "print(result)\n",
        "\n",
        "result = calc.multiply(54, 2)\n",
        "print(result)\n",
        "\n",
        "result = calc.divide(144, 2)\n",
        "print(result)\n",
        "\n",
        "result = calc.divide(45, 0)\n",
        "print(result)"
      ],
      "metadata": {
        "id": "pdgesiS-_MkR"
      },
      "execution_count": null,
      "outputs": []
    },
    {
      "cell_type": "markdown",
      "source": [
        "Task 2: Rectangle class:"
      ],
      "metadata": {
        "id": "y3ehgpRR_Og4"
      }
    },
    {
      "cell_type": "code",
      "source": [
        "class Rectangle:\n",
        "    def __init__(self, length , width):\n",
        "        self.length = length\n",
        "        self.width = width\n",
        "\n",
        "    def Perimeter(self):\n",
        "        return 2*(self.length + self.width)\n",
        "\n",
        "    def Area(self):\n",
        "        return self.length*self.width\n",
        "\n",
        "    def display(self):\n",
        "        print(\"The length of rectangle is: \", self.length)\n",
        "        print(\"The width of rectangle is: \", self.width)\n",
        "        print(\"The perimeter of rectangle is: \", self.Perimeter())\n",
        "        print(\"The area of rectangle is: \", self.Area())\n",
        "class Parallelepipede(Rectangle):\n",
        "    def __init__(self, length, width , height):\n",
        "        Rectangle.__init__(self, length, width)\n",
        "        self.height = height\n",
        "\n",
        "    def volume(self):\n",
        "        return self.length*self.width*self.height\n",
        "\n",
        "myRectangle = Rectangle(7 , 5)\n",
        "myRectangle.display()\n",
        "print(\"----------------------------------\")\n",
        "myParallelepipede = Parallelepipede(7 , 5 , 2)\n",
        "print(\"the volume of myParallelepipede is: \" , myParallelepipede.volume())"
      ],
      "metadata": {
        "colab": {
          "base_uri": "https://localhost:8080/"
        },
        "id": "WXf7tJ5J_N_K",
        "outputId": "a40ae865-9a10-4aa4-a8d3-94abcd207357"
      },
      "execution_count": 3,
      "outputs": [
        {
          "output_type": "stream",
          "name": "stdout",
          "text": [
            "The length of rectangle is:  7\n",
            "The width of rectangle is:  5\n",
            "The perimeter of rectangle is:  24\n",
            "The area of rectangle is:  35\n",
            "----------------------------------\n",
            "the volume of myParallelepipede is:  70\n"
          ]
        }
      ]
    },
    {
      "cell_type": "markdown",
      "source": [
        "Task 3: Person class and child Student class"
      ],
      "metadata": {
        "id": "u4dB1IJ5A-H4"
      }
    },
    {
      "cell_type": "code",
      "source": [
        "class Person:\n",
        "    def __init__(self, name, age):\n",
        "        self.name = name\n",
        "        self.age = age\n",
        "    def display(self):\n",
        "        print(\"Person name : \", self.name)\n",
        "        print(\"Person age = \", self.age)\n",
        "\n",
        "class Student(Person):\n",
        "    def __init__(self, name , age , section):\n",
        "        Person.__init__(self,name, age)\n",
        "        self.section = section\n",
        "\n",
        "    def displayStudent(self):\n",
        "        print(\"Student name : \", self.name)\n",
        "        print(\"Student age = \", self.age)\n",
        "        print(\"Student section = \", self.section)\n",
        "\n",
        "P = Person(\"Tomas Wild\", 37)\n",
        "P.display()\n",
        "print(\"-------------------------------\")\n",
        "S = Student(\"Albert\", 23 , \"Mathematics\")\n",
        "S.displayStudent()"
      ],
      "metadata": {
        "colab": {
          "base_uri": "https://localhost:8080/"
        },
        "id": "YM0wuqm-BB2R",
        "outputId": "76d55f9d-c3a2-448e-d915-ee62ace884a8"
      },
      "execution_count": 5,
      "outputs": [
        {
          "output_type": "stream",
          "name": "stdout",
          "text": [
            "Person name :  Tomas Wild\n",
            "Person age =  37\n",
            "-------------------------------\n",
            "Student name :  Albert\n",
            "Student age =  23\n",
            "Student section =  Mathematics\n"
          ]
        }
      ]
    }
  ]
}